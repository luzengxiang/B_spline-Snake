{
 "cells": [
  {
   "cell_type": "code",
   "execution_count": 67,
   "metadata": {
    "collapsed": true
   },
   "outputs": [],
   "source": [
    "from pylab import *"
   ]
  },
  {
   "cell_type": "code",
   "execution_count": 68,
   "metadata": {
    "collapsed": true
   },
   "outputs": [],
   "source": [
    "import cv2\n",
    "import sys\n",
    "import time\n",
    "import matplotlib.pyplot as plot\n",
    "from scipy import ndimage"
   ]
  },
  {
   "cell_type": "markdown",
   "metadata": {},
   "source": [
    "Hyper parameter"
   ]
  },
  {
   "cell_type": "code",
   "execution_count": 69,
   "metadata": {
    "collapsed": true
   },
   "outputs": [],
   "source": [
    "sobel_size = 3\n",
    "\n",
    "GVF_mu = 0.3\n",
    "\n",
    "GVF_dt = 0.1\n",
    "GVF_dx = 1\n",
    "GVF_dy =1\n",
    "\n",
    "iteration_threshold = 0.001\n",
    "if GVF_dt == None:\n",
    "    GVF_dt = GVF_dy*GVF_dx/(4*GVF_mu*1.2)\n",
    "\n",
    "assert (GVF_dt is not None) and GVF_dt<= GVF_dy*GVF_dx/(4*GVF_mu) ,'Hyper parameter Error:dt < dy*dx/(4*mu)'\n",
    "\n",
    "b_spline_dt = 1\n"
   ]
  },
  {
   "cell_type": "code",
   "execution_count": 70,
   "metadata": {},
   "outputs": [
    {
     "data": {
      "text/plain": [
       "(1, 2)"
      ]
     },
     "execution_count": 70,
     "metadata": {},
     "output_type": "execute_result"
    }
   ],
   "source": [
    "tuple((1,2))"
   ]
  },
  {
   "cell_type": "code",
   "execution_count": 71,
   "metadata": {
    "collapsed": true
   },
   "outputs": [],
   "source": [
    "image = cv2.imread(\"test.jpg\")"
   ]
  },
  {
   "cell_type": "code",
   "execution_count": 72,
   "metadata": {
    "collapsed": true
   },
   "outputs": [],
   "source": [
    "gray_image = cv2.cvtColor(image, cv2.COLOR_BGR2GRAY)"
   ]
  },
  {
   "cell_type": "code",
   "execution_count": 73,
   "metadata": {},
   "outputs": [
    {
     "data": {
      "image/png": "[encoded data removed]",
      "text/plain": [
       "<matplotlib.figure.Figure at 0x1d6b7070fd0>"
      ]
     },
     "metadata": {},
     "output_type": "display_data"
    }
   ],
   "source": [
    "image_resized = cv2.resize(gray_image,dsize=(100,110))\n",
    "image_resized = image_resized \n",
    "plot.imshow(image_resized)\n",
    "plot.show()"
   ]
  },
  {
   "cell_type": "code",
   "execution_count": 74,
   "metadata": {
    "collapsed": true
   },
   "outputs": [],
   "source": [
    "sobelx = cv2.Sobel(image_resized,cv2.CV_64F,1,0,ksize=sobel_size)\n",
    "sobely = cv2.Sobel(image_resized,cv2.CV_64F,0,1,ksize=sobel_size)\n",
    "gradient_magnitude = sqrt(sobelx*sobelx+sobely*sobely)"
   ]
  },
  {
   "cell_type": "code",
   "execution_count": 75,
   "metadata": {
    "collapsed": true
   },
   "outputs": [],
   "source": [
    "#get gradient of image\n",
    "import numpy as np\n",
    "import matplotlib.pyplot as plt\n",
    "from PIL import ImageFilter\n",
    "import scipy.ndimage as ndimage\n",
    "\n",
    "#.transpose(Image.FLIP_TOP_BOTTOM)\n",
    "p = np.asarray(gradient_magnitude).astype(np.float32)\n",
    "p = ndimage.filters.gaussian_filter(p,5)\n",
    "dx, dy = np.gradient(p)\n",
    "dy = np.asarray(dy,dtype=float32)\n",
    "dx = np.asarray(dx,dtype=float32)"
   ]
  },
  {
   "cell_type": "code",
   "execution_count": 77,
   "metadata": {},
   "outputs": [],
   "source": [
    "sobelx = dx\n",
    "sobely = dy\n",
    "gradient_magnitude2 = sobelx*sobelx+sobely*sobely\n",
    "\n",
    "sobelx = sobelx / sqrt(gradient_magnitude2.max())\n",
    "sobely = sobely / sqrt(gradient_magnitude2.max())\n",
    "gradient_magnitude2 = sobelx*sobelx+sobely*sobely\n"
   ]
  },
  {
   "cell_type": "code",
   "execution_count": 78,
   "metadata": {},
   "outputs": [
    {
     "name": "stdout",
     "output_type": "stream",
     "text": [
      "5.44914e-05\n",
      "1.20864e-05\n",
      "1.20864e-05\n",
      "1.20864e-05\n",
      "1.20864e-05\n",
      "1.20864e-05\n"
     ]
    },
    {
     "ename": "KeyboardInterrupt",
     "evalue": "",
     "output_type": "error",
     "traceback": [
      "\u001b[1;31m---------------------------------------------------------------------------\u001b[0m",
      "\u001b[1;31mKeyboardInterrupt\u001b[0m                         Traceback (most recent call last)",
      "\u001b[1;32m<ipython-input-78-facc4c5d88af>\u001b[0m in \u001b[0;36m<module>\u001b[1;34m()\u001b[0m\n\u001b[0;32m     11\u001b[0m \u001b[1;32mwhile\u001b[0m\u001b[1;33m(\u001b[0m\u001b[0mflag\u001b[0m\u001b[1;33m)\u001b[0m\u001b[1;33m:\u001b[0m\u001b[1;33m\u001b[0m\u001b[0m\n\u001b[0;32m     12\u001b[0m     \u001b[0mU_Laplacian\u001b[0m \u001b[1;33m=\u001b[0m \u001b[0mcv2\u001b[0m\u001b[1;33m.\u001b[0m\u001b[0mLaplacian\u001b[0m\u001b[1;33m(\u001b[0m\u001b[0mU_1\u001b[0m\u001b[1;33m,\u001b[0m\u001b[0mcv2\u001b[0m\u001b[1;33m.\u001b[0m\u001b[0mCV_32F\u001b[0m\u001b[1;33m)\u001b[0m\u001b[1;33m\u001b[0m\u001b[0m\n\u001b[1;32m---> 13\u001b[1;33m     \u001b[0mU_2\u001b[0m \u001b[1;33m=\u001b[0m \u001b[1;33m(\u001b[0m\u001b[1;36m1\u001b[0m\u001b[1;33m-\u001b[0m\u001b[0mgradient_magnitude2\u001b[0m\u001b[1;33m*\u001b[0m\u001b[0mGVF_dt\u001b[0m\u001b[1;33m)\u001b[0m\u001b[1;33m*\u001b[0m\u001b[0mU_1\u001b[0m\u001b[1;33m+\u001b[0m\u001b[0mr\u001b[0m\u001b[1;33m*\u001b[0m\u001b[0mU_Laplacian\u001b[0m\u001b[1;33m+\u001b[0m\u001b[0mgradient_magnitude2\u001b[0m\u001b[1;33m*\u001b[0m\u001b[0msobelx\u001b[0m\u001b[1;33m*\u001b[0m\u001b[0mGVF_dt\u001b[0m\u001b[1;33m\u001b[0m\u001b[0m\n\u001b[0m\u001b[0;32m     14\u001b[0m \u001b[1;33m\u001b[0m\u001b[0m\n\u001b[0;32m     15\u001b[0m     \u001b[0mV_Laplacian\u001b[0m \u001b[1;33m=\u001b[0m \u001b[0mcv2\u001b[0m\u001b[1;33m.\u001b[0m\u001b[0mLaplacian\u001b[0m\u001b[1;33m(\u001b[0m\u001b[0mV_1\u001b[0m\u001b[1;33m,\u001b[0m\u001b[0mcv2\u001b[0m\u001b[1;33m.\u001b[0m\u001b[0mCV_32F\u001b[0m\u001b[1;33m)\u001b[0m\u001b[1;33m\u001b[0m\u001b[0m\n",
      "\u001b[1;31mKeyboardInterrupt\u001b[0m: "
     ]
    }
   ],
   "source": [
    "U = sobelx\n",
    "V = sobely\n",
    "iteration_threshold = 0.000001\n",
    "r = GVF_mu*GVF_dt/(GVF_dx*GVF_dy)\n",
    "\n",
    "U_1 = U\n",
    "V_1 = V\n",
    "flag = True\n",
    "\n",
    "start_time = time.time()\n",
    "while(flag):\n",
    "    U_Laplacian = cv2.Laplacian(U_1,cv2.CV_32F)\n",
    "    U_2 = (1-gradient_magnitude2*GVF_dt)*U_1+r*U_Laplacian+gradient_magnitude2*sobelx*GVF_dt\n",
    "    \n",
    "    V_Laplacian = cv2.Laplacian(V_1,cv2.CV_32F)\n",
    "    V_2 = (1-gradient_magnitude2*GVF_dt)*V_1+r*V_Laplacian+gradient_magnitude2*sobely*GVF_dt\n",
    "    \n",
    "    Criterion = ((V_2-V_1)**2 + (U_2-U_1)**2)/ (V_1**2+V_2**2 + 1e-10)\n",
    "    Criterion = Criterion.max()\n",
    "    \n",
    "    flag = (sqrt(Criterion) > iteration_threshold)\n",
    "    if time.time()>start_time + 10:\n",
    "        start_time = time.time()\n",
    "        sys.stdout.write(str(sqrt(Criterion))+\"\\n\")\n",
    "    \n",
    "    U_1 = U_2\n",
    "    V_1 = V_2\n",
    " "
   ]
  },
  {
   "cell_type": "code",
   "execution_count": 62,
   "metadata": {},
   "outputs": [
    {
     "name": "stderr",
     "output_type": "stream",
     "text": [
      "C:\\Users\\luzengxiang\\Anaconda3\\lib\\site-packages\\matplotlib\\quiver.py:646: RuntimeWarning: Mean of empty slice.\n",
      "  amean = a[~self.Umask].mean()\n",
      "C:\\Users\\luzengxiang\\Anaconda3\\lib\\site-packages\\numpy\\core\\_methods.py:80: RuntimeWarning: invalid value encountered in true_divide\n",
      "  ret = ret.dtype.type(ret / rcount)\n",
      "C:\\Users\\luzengxiang\\Anaconda3\\lib\\site-packages\\matplotlib\\quiver.py:720: RuntimeWarning: invalid value encountered in less\n",
      "  short = np.repeat(length < minsh, 8, axis=1)\n",
      "C:\\Users\\luzengxiang\\Anaconda3\\lib\\site-packages\\matplotlib\\quiver.py:734: RuntimeWarning: invalid value encountered in less\n",
      "  tooshort = length < self.minlength\n"
     ]
    },
    {
     "data": {
      "image/png": "[encoded data removed]",
      "text/plain": [
       "<matplotlib.figure.Figure at 0x1d6b7392400>"
      ]
     },
     "metadata": {},
     "output_type": "display_data"
    }
   ],
   "source": [
    "\n",
    "import numpy as np\n",
    "\n",
    "skip = (slice(None,None,4),slice(None,None,4))\n",
    "X, Y = np.meshgrid(range(0,100), range(0,100))\n",
    "X_f = U_1[X,Y]\n",
    "Y_f = V_1[X,Y]\n",
    "plot.quiver(X[skip],Y[skip],X_f[skip],Y_f[skip],)\n",
    "plot.imshow(image_resized.transpose(),origin='low',cmap='gray')\n",
    "\n",
    "plot.show()"
   ]
  },
  {
   "cell_type": "code",
   "execution_count": 3,
   "metadata": {
    "collapsed": true
   },
   "outputs": [],
   "source": [
    "import numpy as np\n",
    "D = np.asarray([[-1,1,0,0,0,0],[0,-1,1,0,0,0],[0,0,-1,1,0,0],[0,0,0,-1,1,0],[0,0,0,0,-1,1],[1,0,0,0,0,-1]])"
   ]
  },
  {
   "cell_type": "code",
   "execution_count": 29,
   "metadata": {},
   "outputs": [
    {
     "data": {
      "text/plain": [
       "PIL.Image.Image"
      ]
     },
     "execution_count": 29,
     "metadata": {},
     "output_type": "execute_result"
    }
   ],
   "source": [
    "I = \n"
   ]
  },
  {
   "cell_type": "code",
   "execution_count": 814,
   "metadata": {
    "collapsed": true
   },
   "outputs": [],
   "source": [
    "Spline_Matrix = np.asarray([[-1/6,0.5,-0.5,1/6],\n",
    "                       [0.5,-1,0.5,0],\n",
    "                       [-0.5,0,0.5,0],\n",
    "                       [1/6,2/3,1/6,0]])"
   ]
  },
  {
   "cell_type": "code",
   "execution_count": 815,
   "metadata": {
    "collapsed": true
   },
   "outputs": [],
   "source": [
    "sample_num = 10\n",
    "sample_s=np.linspace(0, 1, sample_num)[:-1]"
   ]
  },
  {
   "cell_type": "code",
   "execution_count": 816,
   "metadata": {
    "collapsed": true
   },
   "outputs": [],
   "source": [
    "sample_Matrix = np.asarray([[i**3,i**2,i,1]for i in sample_s])"
   ]
  },
  {
   "cell_type": "code",
   "execution_count": 817,
   "metadata": {
    "collapsed": true
   },
   "outputs": [],
   "source": [
    "M_rs= sample_Matrix.dot(Spline_Matrix)"
   ]
  },
  {
   "cell_type": "code",
   "execution_count": 818,
   "metadata": {
    "collapsed": true
   },
   "outputs": [],
   "source": [
    "def get_force(U_1,V_1,x,y):\n",
    "    row_num, col_num = U_1.shape\n",
    "    if x>col_num-1:\n",
    "        x = col_num -1\n",
    "    if y>row_num-1:\n",
    "        y= row_num - 1\n",
    "        \n",
    "    x = max(x,0)\n",
    "    y = max(y,0)\n",
    "\n",
    "    x_f = int(floor(x))\n",
    "    x_c = int(ceil(x))\n",
    "    \n",
    "    y_f = int(floor(y))\n",
    "    y_c = int(ceil(y))\n",
    "    \n",
    "    if x//1 ==x:\n",
    "        x_w = np.asarray([1/2,1/2])\n",
    "    else:\n",
    "        x_w = np.asarray([x_c-x,x-x_f])\n",
    "\n",
    "    if y//1 == y:\n",
    "        y_w = np.asarray([1/2,1/2])\n",
    "    else:\n",
    "        y_w = np.asarray([y_c-y,y-y_f])\n",
    "\n",
    "    w = [x_w[0]*y_w[0],x_w[0]*y_w[1],x_w[1]*y_w[0],x_w[1]*y_w[1]]\n",
    "\n",
    "    fx_v = [U_1[x_f,y_f],U_1[x_f,y_c],U_1[x_c,y_f],U_1[x_c,y_c]]\n",
    "    fy_v = [V_1[x_f,y_f],V_1[x_f,y_c],V_1[x_c,y_f],V_1[x_c,y_c]]\n",
    "    fx = np.asarray(w).dot(np.asarray(fx_v))\n",
    "    fy = np.asarray(w).dot(np.asarray(fy_v))\n",
    "    return fx,fy"
   ]
  },
  {
   "cell_type": "code",
   "execution_count": 819,
   "metadata": {
    "collapsed": true
   },
   "outputs": [],
   "source": [
    "def get_M_rs(sample_size):\n",
    "    \n",
    "    Spline_Matrix = np.asarray([[-1/6,0.5,-0.5,1/6],\n",
    "                       [0.5,-1,0.5,0],\n",
    "                       [-0.5,0,0.5,0],\n",
    "                       [1/6,2/3,1/6,0]])\n",
    "    \n",
    "    sample_s=np.linspace(0, 1, sample_size)[:-1]\n",
    "    \n",
    "    sample_Matrix = np.asarray([[i**3,i**2,i,1]for i in sample_s])\n",
    "    \n",
    "    M_rs= sample_Matrix.dot(Spline_Matrix)\n",
    "    \n",
    "    return M_rs\n",
    "    \n",
    "    \n",
    "def get_spline(M_rs: np.array,control_point):\n",
    "    \n",
    "    assert len(control_point) == 4, \"the number of control point should be 4\"\n",
    "    \n",
    "    return M_rs.dot(np.asarray(control_point))\n",
    "\n",
    "\n",
    "def get_spline_s(M_rs:np.array,control_point):\n",
    "    \n",
    "    if not isinstance(control_point,np.ndarray):\n",
    "        control_point = np.asarray(control_point)\n",
    "    \n",
    "    tot_num = len(control_point)\n",
    "\n",
    "    assert tot_num >= 4, \"the number of control point should no less than 4\"\n",
    "    \n",
    "    result = []\n",
    "    \n",
    "    for index in range(0,tot_num):\n",
    "        if index <= tot_num-4:\n",
    "            piece_index = list(range(index,index+4))\n",
    "        else:\n",
    "            piece_index = [index,(index+1)%tot_num,(index+2)%tot_num,(index+3)%tot_num]\n",
    "        result.extend(get_spline(M_rs,control_point[piece_index]))\n",
    "    return np.asarray(result)"
   ]
  },
  {
   "cell_type": "code",
   "execution_count": 820,
   "metadata": {
    "collapsed": true
   },
   "outputs": [],
   "source": [
    "def get_sample_force(U,V,M_rs:np.array,control_point):\n",
    "    \n",
    "    if not isinstance(control_point,np.ndarray):\n",
    "        control_point = np.asarray(control_point)\n",
    "    \n",
    "    tot_num = len(control_point)\n",
    "    sample_num = M_rs.shape[0]\n",
    "    assert tot_num >= 4, \"the number of control point should no less than 4\"\n",
    "    \n",
    "    result_matrix_x = np.zeros([sample_num,tot_num],dtype= float)\n",
    "    result_matrix_y = np.zeros([sample_num,tot_num],dtype= float)\n",
    "\n",
    "    for index in range(0,tot_num):\n",
    "        if index <= tot_num-4:\n",
    "            piece_index = list(range(index,index+4))\n",
    "        else:\n",
    "            piece_index = [index,(index+1)%tot_num,(index+2)%tot_num,(index+3)%tot_num]\n",
    "        \n",
    "        spline = get_spline(M_rs,control_point[piece_index])\n",
    "        force = [get_force(U,V,x,y) for x,y in spline]\n",
    "        result_matrix_x[:, index] = [x for x,y in force]\n",
    "        result_matrix_y[:, index] = [y for x,y in force]\n",
    "    return result_matrix_x,result_matrix_y\n",
    "\n",
    "def get_fq(U,V,M_rs:np.array,control_point):\n",
    "    sample_force_x,sample_force_y = get_sample_force(U_1,V_1,M_rs,control_point)\n",
    "    fq_list_x, fq_list_y =M_rs.transpose().dot(sample_force_x), M_rs.transpose().dot(sample_force_y)\n",
    "    \n",
    "    fq_x = np.zeros(len(control_point))\n",
    "    fq_y = np.zeros(len(control_point))\n",
    "    row, col = fq_list_x.shape\n",
    "    \n",
    "    for rowi in range(0,row):\n",
    "        for coli in range(0,col):\n",
    "            q_num = (coli + rowi) % len(control_point)\n",
    "            fq_x[q_num] += fq_list_x[rowi,coli]\n",
    "            fq_y[q_num] += fq_list_y[rowi,coli]\n",
    "            \n",
    "    return np.asarray([fq_x,fq_y]).transpose()"
   ]
  },
  {
   "cell_type": "code",
   "execution_count": 821,
   "metadata": {
    "collapsed": true
   },
   "outputs": [],
   "source": [
    "control_point = np.asarray([[20,10],[70,10],[70,80],[20,80]],dtype=float)"
   ]
  },
  {
   "cell_type": "code",
   "execution_count": 822,
   "metadata": {},
   "outputs": [
    {
     "data": {
      "image/png": "[encoded data removed]",
      "text/plain": [
       "<matplotlib.figure.Figure at 0x1b69e472d68>"
      ]
     },
     "metadata": {},
     "output_type": "display_data"
    }
   ],
   "source": [
    "import matplotlib.pyplot as plot\n",
    "B_spline = get_spline_s(M_rs,control_point).transpose()\n",
    "f,ax = plot.subplots()\n",
    "ax.plot(list(B_spline[0])+[B_spline[0,0]],list(B_spline[1])+[B_spline[1,0]],marker='o')\n",
    "ax.plot(control_point[:,0],control_point[:,1],'ro',)\n",
    "for i,j in B_spline.transpose():\n",
    "    force_ij = get_force(U_1,V_1,i,j)\n",
    "    ax.plot([i,i+10*force_ij[0]],[j,j+10*force_ij[1]],'g')\n",
    "fq = get_fq(U_1,V_1,M_rs,control_point)\n",
    "for p,f in zip(control_point,fq):\n",
    "    ax.plot([p[0],p[0]+10*f[0]],[p[1],p[1]+10*f[1]],'r')\n",
    "plot.show()"
   ]
  },
  {
   "cell_type": "code",
   "execution_count": null,
   "metadata": {
    "collapsed": true
   },
   "outputs": [],
   "source": []
  },
  {
   "cell_type": "code",
   "execution_count": 823,
   "metadata": {
    "collapsed": true
   },
   "outputs": [],
   "source": [
    "control_point_1 = control_point"
   ]
  },
  {
   "cell_type": "code",
   "execution_count": null,
   "metadata": {
    "collapsed": true
   },
   "outputs": [],
   "source": []
  },
  {
   "cell_type": "code",
   "execution_count": 836,
   "metadata": {
    "collapsed": true
   },
   "outputs": [],
   "source": [
    "import time\n",
    "time_1 = time.time()\n",
    "for i in range(0,100000):\n",
    "    fq = get_fq(U_1,V_1,M_rs,control_point_1)\n",
    "    control_point_1 += fq*0.001\n",
    "    B_spline = get_spline_s(M_rs,control_point_1).transpose()\n"
   ]
  },
  {
   "cell_type": "code",
   "execution_count": 837,
   "metadata": {},
   "outputs": [
    {
     "data": {
      "image/png": "[encoded data removed]",
      "text/plain": [
       "<matplotlib.figure.Figure at 0x1b69e1a49e8>"
      ]
     },
     "metadata": {},
     "output_type": "display_data"
    }
   ],
   "source": [
    "B_spline = get_spline_s(M_rs,control_point_1).transpose()\n",
    "f,ax = plot.subplots()\n",
    "ax.imshow(image_resized.transpose()*255)\n",
    "ax.plot(list(B_spline[0])+[B_spline[0,0]],list(B_spline[1])+[B_spline[1,0]],marker='o')\n",
    "ax.plot(control_point_1[:,0],control_point_1[:,1],'ro',)\n",
    "for i,j in B_spline.transpose():\n",
    "    force_ij = get_force(U_1,V_1,i,j)\n",
    "    ax.plot([i,i+10*force_ij[0]],[j,j+10*force_ij[1]],'g')\n",
    "    \n",
    "fq = get_fq(U_1,V_1,M_rs,control_point_1)\n",
    "for p,f in zip(control_point_1,fq):\n",
    "    ax.plot([p[0],p[0]+10*f[0]],[p[1],p[1]+10*f[1]],'r')\n",
    "\n",
    "plot.show()"
   ]
  },
  {
   "cell_type": "code",
   "execution_count": 838,
   "metadata": {},
   "outputs": [
    {
     "data": {
      "text/plain": [
       "array([[  0.00000000e+00,   0.00000000e+00,   1.04713913e+02,\n",
       "          1.96328451e+03,   4.57823252e+03,   3.55493279e+03,\n",
       "         -2.46379446e+01,  -3.10556627e+03,  -3.76194047e+03,\n",
       "         -1.13686838e-13],\n",
       "       [ -8.88178420e-16,  -4.88087026e+00,   8.16942521e+01,\n",
       "          1.88429377e+03,   4.59780614e+03,   3.92412670e+03,\n",
       "          5.93010390e+02,  -2.49546768e+03,  -3.38005593e+03,\n",
       "         -1.27897692e-13],\n",
       "       [ -3.55271368e-15,  -3.09861112e+01,  -1.92029003e+00,\n",
       "          1.47591853e+03,   4.68867712e+03,   5.88983382e+03,\n",
       "          3.20722748e+03,  -4.41768419e+02,  -1.79441679e+03,\n",
       "         -5.68434189e-14],\n",
       "       [ -3.55271368e-15,  -7.36894528e+01,  -1.14685586e+02,\n",
       "          7.93103180e+02,   5.25519238e+03,   1.02988765e+04,\n",
       "          8.13183234e+03,   2.96991985e+03,   1.42319255e+03,\n",
       "          2.13162821e-13],\n",
       "       [  3.55271368e-15,  -6.55621318e+01,  -1.69911295e+02,\n",
       "          2.78647612e+02,   6.61008747e+03,   1.60892829e+04,\n",
       "          1.34925937e+04,   5.22497945e+03,   3.47971176e+03,\n",
       "          2.27373675e-13],\n",
       "       [  9.76996262e-15,  -1.42496729e+02,  -2.47966765e+02,\n",
       "          4.06904643e+01,   8.10887527e+03,   2.13737281e+04,\n",
       "          1.71880846e+04,   2.23478312e+03,  -1.06704248e+03,\n",
       "         -3.69482223e-13],\n",
       "       [  7.10542736e-15,  -8.89717186e+02,  -6.38834700e+02,\n",
       "         -8.14491809e+00,   9.12958432e+03,   2.49815817e+04,\n",
       "          1.84612458e+04,  -5.78883262e+03,  -1.16583017e+04,\n",
       "         -7.95807864e-13],\n",
       "       [  1.77635684e-15,  -2.46952496e+03,  -1.38178754e+03,\n",
       "          4.31063462e+02,   1.03835003e+04,   2.65153752e+04,\n",
       "          1.68179582e+04,  -1.37475881e+04,  -2.02818734e+04,\n",
       "         -5.11590770e-13],\n",
       "       [ -3.55271368e-15,  -3.78242949e+03,  -2.01925748e+03,\n",
       "          1.78616520e+03,   1.31815822e+04,   2.60042305e+04,\n",
       "          1.13981584e+04,  -1.86884304e+04,  -2.19731541e+04,\n",
       "         -1.42108547e-13],\n",
       "       [ -1.42108547e-14,  -3.75681193e+03,  -2.08359049e+03,\n",
       "          4.11501590e+03,   1.74453032e+04,   2.32925876e+04,\n",
       "          2.38128178e+03,  -2.13117230e+04,  -1.84090338e+04,\n",
       "         -1.13686838e-13],\n",
       "       [ -1.42108547e-14,  -2.92254217e+03,  -1.50659655e+03,\n",
       "          7.31913080e+03,   2.12536541e+04,   1.77948887e+04,\n",
       "         -7.84161432e+03,  -2.18671448e+04,  -1.28252464e+04,\n",
       "         -1.74082970e-13],\n",
       "       [ -1.42108547e-14,  -2.64242072e+03,  -5.07051064e+02,\n",
       "          1.14182190e+04,   2.28160361e+04,   9.49740508e+03,\n",
       "         -1.62244010e+04,  -1.99450253e+04,  -7.62742970e+03,\n",
       "         -1.27897692e-13],\n",
       "       [ -6.75015599e-14,  -3.25354257e+03,   5.02660151e+02,\n",
       "          1.55867670e+04,   2.23530253e+04,   7.79371263e+02,\n",
       "         -2.13122190e+04,  -1.67232991e+04,  -4.19679635e+03,\n",
       "         -5.32907052e-14],\n",
       "       [ -1.13686838e-13,  -3.70990999e+03,   9.43767972e+02,\n",
       "          1.74754815e+04,   2.17980267e+04,  -3.17088769e+03,\n",
       "         -2.29893863e+04,  -1.50843556e+04,  -3.01386233e+03,\n",
       "         -2.84217094e-14]])"
      ]
     },
     "execution_count": 838,
     "metadata": {},
     "output_type": "execute_result"
    }
   ],
   "source": [
    "X, Y = np.meshgrid(range(10,30), range(30,50))\n",
    "X_f = sobelx[X,Y]\n",
    "Y_f = sobely[X,Y]\n",
    "new = cv2.Sobel(gradient_magnitude[15:29,50:60],cv2.CV_64F,1,0,ksize=5)\n",
    "new"
   ]
  },
  {
   "cell_type": "code",
   "execution_count": null,
   "metadata": {
    "collapsed": true
   },
   "outputs": [],
   "source": []
  },
  {
   "cell_type": "code",
   "execution_count": 826,
   "metadata": {},
   "outputs": [
    {
     "data": {
      "image/png": "[encoded data removed]",
      "text/plain": [
       "<matplotlib.figure.Figure at 0x1b69b337828>"
      ]
     },
     "metadata": {},
     "output_type": "display_data"
    }
   ],
   "source": [
    "xlim = [20,40]\n",
    "ylim = [50,60]\n",
    "f,ax = plot.subplots()\n",
    "ax.imshow(gradient_magnitude[xlim[0]:xlim[1],ylim[0]:ylim[1]])\n",
    "plot.show()"
   ]
  },
  {
   "cell_type": "code",
   "execution_count": 827,
   "metadata": {},
   "outputs": [
    {
     "data": {
      "image/png": "[encoded data removed]",
      "text/plain": [
       "<matplotlib.figure.Figure at 0x1b69e029f98>"
      ]
     },
     "metadata": {},
     "output_type": "display_data"
    }
   ],
   "source": [
    "X, Y = np.meshgrid(range(xlim[0],xlim[1]+1), range(ylim[0],ylim[1]+1))\n",
    "x, y = np.meshgrid(range(0,xlim[1]-xlim[0]+1), range(0,ylim[1]-ylim[0]+1))\n",
    "X_f = sobelx[X,Y]\n",
    "Y_f = sobely[X,Y]\n",
    "plot.quiver(X,Y,X_f,Y_f)\n",
    "plot.show()"
   ]
  },
  {
   "cell_type": "code",
   "execution_count": 542,
   "metadata": {},
   "outputs": [
    {
     "data": {
      "text/plain": [
       "array([[ 2.10746303, -0.46376133],\n",
       "       [ 2.49913441, -1.3496993 ],\n",
       "       [-0.88183928, -0.09720752],\n",
       "       [-2.07174587,  0.58000592]])"
      ]
     },
     "execution_count": 542,
     "metadata": {},
     "output_type": "execute_result"
    }
   ],
   "source": [
    "fq"
   ]
  },
  {
   "cell_type": "code",
   "execution_count": 543,
   "metadata": {},
   "outputs": [
    {
     "ename": "NameError",
     "evalue": "name 'a' is not defined",
     "output_type": "error",
     "traceback": [
      "\u001b[1;31m---------------------------------------------------------------------------\u001b[0m",
      "\u001b[1;31mNameError\u001b[0m                                 Traceback (most recent call last)",
      "\u001b[1;32m<ipython-input-543-6b76ea97d651>\u001b[0m in \u001b[0;36m<module>\u001b[1;34m()\u001b[0m\n\u001b[1;32m----> 1\u001b[1;33m \u001b[0mplot\u001b[0m\u001b[1;33m.\u001b[0m\u001b[0mplot\u001b[0m\u001b[1;33m(\u001b[0m\u001b[0ma\u001b[0m\u001b[1;33m[\u001b[0m\u001b[1;36m0\u001b[0m\u001b[1;33m]\u001b[0m\u001b[1;33m,\u001b[0m\u001b[0ma\u001b[0m\u001b[1;33m[\u001b[0m\u001b[1;36m1\u001b[0m\u001b[1;33m]\u001b[0m\u001b[1;33m)\u001b[0m\u001b[1;33m\u001b[0m\u001b[0m\n\u001b[0m\u001b[0;32m      2\u001b[0m \u001b[0mplot\u001b[0m\u001b[1;33m.\u001b[0m\u001b[0mshow\u001b[0m\u001b[1;33m(\u001b[0m\u001b[1;33m)\u001b[0m\u001b[1;33m\u001b[0m\u001b[0m\n",
      "\u001b[1;31mNameError\u001b[0m: name 'a' is not defined"
     ]
    }
   ],
   "source": [
    "plot.plot(a[0],a[1])\n",
    "plot.show()"
   ]
  },
  {
   "cell_type": "code",
   "execution_count": 369,
   "metadata": {},
   "outputs": [
    {
     "ename": "NameError",
     "evalue": "name 'u_sample' is not defined",
     "output_type": "error",
     "traceback": [
      "\u001b[1;31m---------------------------------------------------------------------------\u001b[0m",
      "\u001b[1;31mNameError\u001b[0m                                 Traceback (most recent call last)",
      "\u001b[1;32m<ipython-input-369-6cba416ea0ac>\u001b[0m in \u001b[0;36m<module>\u001b[1;34m()\u001b[0m\n\u001b[1;32m----> 1\u001b[1;33m \u001b[0mu_sample_x_y\u001b[0m \u001b[1;33m=\u001b[0m \u001b[0mu_sample\u001b[0m\u001b[1;33m.\u001b[0m\u001b[0mtranspose\u001b[0m\u001b[1;33m(\u001b[0m\u001b[1;33m)\u001b[0m\u001b[1;33m\u001b[0m\u001b[0m\n\u001b[0m\u001b[0;32m      2\u001b[0m \u001b[0mu_x\u001b[0m \u001b[1;33m=\u001b[0m \u001b[0mu_sample_x_y\u001b[0m\u001b[1;33m[\u001b[0m\u001b[1;36m0\u001b[0m\u001b[1;33m]\u001b[0m\u001b[1;33m\u001b[0m\u001b[0m\n\u001b[0;32m      3\u001b[0m \u001b[0mu_y\u001b[0m \u001b[1;33m=\u001b[0m \u001b[0mu_sample_x_y\u001b[0m\u001b[1;33m[\u001b[0m\u001b[1;36m1\u001b[0m\u001b[1;33m]\u001b[0m\u001b[1;33m\u001b[0m\u001b[0m\n",
      "\u001b[1;31mNameError\u001b[0m: name 'u_sample' is not defined"
     ]
    }
   ],
   "source": [
    "u_sample_x_y = u_sample.transpose()\n",
    "u_x = u_sample_x_y[0]\n",
    "u_y = u_sample_x_y[1]"
   ]
  },
  {
   "cell_type": "code",
   "execution_count": 440,
   "metadata": {},
   "outputs": [
    {
     "data": {
      "text/plain": [
       "array([ 0.,  0.,  0.,  0.,  0.])"
      ]
     },
     "execution_count": 440,
     "metadata": {},
     "output_type": "execute_result"
    }
   ],
   "source": []
  },
  {
   "cell_type": "code",
   "execution_count": 186,
   "metadata": {},
   "outputs": [
    {
     "data": {
      "text/plain": [
       "[28.333333333333329,\n",
       " 33.962048468221305,\n",
       " 40.647005029721072,\n",
       " 48.086419753086417,\n",
       " 55.978509373571093,\n",
       " 64.0214906264289,\n",
       " 71.913580246913583,\n",
       " 79.352994970278914,\n",
       " 86.037951531778688,\n",
       " 91.666666666666657]"
      ]
     },
     "execution_count": 186,
     "metadata": {},
     "output_type": "execute_result"
    }
   ],
   "source": [
    "import matplotlib.pyplot as plot\n",
    "list(a[0])"
   ]
  },
  {
   "cell_type": "code",
   "execution_count": 282,
   "metadata": {},
   "outputs": [
    {
     "data": {
      "text/plain": [
       "array([ 0.11111111,  0.22222222,  0.33333333,  0.44444444,  0.55555556,\n",
       "        0.66666667,  0.77777778,  0.88888889])"
      ]
     },
     "execution_count": 282,
     "metadata": {},
     "output_type": "execute_result"
    }
   ],
   "source": []
  },
  {
   "cell_type": "code",
   "execution_count": 206,
   "metadata": {},
   "outputs": [
    {
     "data": {
      "text/plain": [
       "array([1, 2, 3, 4])"
      ]
     },
     "execution_count": 206,
     "metadata": {},
     "output_type": "execute_result"
    }
   ],
   "source": []
  },
  {
   "cell_type": "code",
   "execution_count": 189,
   "metadata": {},
   "outputs": [
    {
     "data": {
      "text/plain": [
       "1"
      ]
     },
     "execution_count": 189,
     "metadata": {},
     "output_type": "execute_result"
    }
   ],
   "source": [
    "5%4"
   ]
  },
  {
   "cell_type": "code",
   "execution_count": 3,
   "metadata": {},
   "outputs": [
    {
     "data": {
      "text/plain": [
       "numpy.ndarray"
      ]
     },
     "execution_count": 3,
     "metadata": {},
     "output_type": "execute_result"
    }
   ],
   "source": [
    "type(np.asarray([]))"
   ]
  },
  {
   "cell_type": "code",
   "execution_count": 2,
   "metadata": {
    "collapsed": true
   },
   "outputs": [],
   "source": [
    "import numpy as np"
   ]
  },
  {
   "cell_type": "code",
   "execution_count": null,
   "metadata": {
    "collapsed": true
   },
   "outputs": [],
   "source": []
  }
 ],
 "metadata": {
  "kernelspec": {
   "display_name": "Python 3",
   "language": "python",
   "name": "python3"
  },
  "language_info": {
   "codemirror_mode": {
    "name": "ipython",
    "version": 3
   },
   "file_extension": ".py",
   "mimetype": "text/x-python",
   "name": "python",
   "nbconvert_exporter": "python",
   "pygments_lexer": "ipython3",
   "version": "3.6.1"
  }
 },
 "nbformat": 4,
 "nbformat_minor": 2
}
